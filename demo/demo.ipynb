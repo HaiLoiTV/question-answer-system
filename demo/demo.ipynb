{
  "cells": [
    {
      "cell_type": "code",
      "execution_count": null,
      "metadata": {
        "id": "uIiipYCGIy3b"
      },
      "outputs": [],
      "source": [
        "!pip install gradio"
      ]
    },
    {
      "cell_type": "code",
      "execution_count": 52,
      "metadata": {
        "colab": {
          "base_uri": "https://localhost:8080/",
          "height": 732
        },
        "id": "gqPvprLcImsV",
        "outputId": "391acfdf-7174-4a4a-b56c-10f6bec37eba"
      },
      "outputs": [
        {
          "name": "stdout",
          "output_type": "stream",
          "text": [
            "Caching examples at: '/content/gradio_cached_examples/285'\n",
            "Caching example 1/4\n",
            "Caching example 2/4\n",
            "Caching example 3/4\n",
            "Caching example 4/4\n",
            "Setting queue=True in a Colab notebook requires sharing enabled. Setting `share=True` (you can turn this off by setting `share=False` in `launch()` explicitly).\n",
            "\n",
            "Colab notebook detected. To show errors in colab notebook, set debug=True in launch()\n",
            "Running on public URL: https://c7325ade68d4516c6c.gradio.live\n",
            "\n",
            "This share link expires in 72 hours. For free permanent hosting and GPU upgrades, run `gradio deploy` from Terminal to deploy to Spaces (https://huggingface.co/spaces)\n"
          ]
        },
        {
          "data": {
            "text/html": [
              "<div><iframe src=\"https://c7325ade68d4516c6c.gradio.live\" width=\"100%\" height=\"500\" allow=\"autoplay; camera; microphone; clipboard-read; clipboard-write;\" frameborder=\"0\" allowfullscreen></iframe></div>"
            ],
            "text/plain": [
              "<IPython.core.display.HTML object>"
            ]
          },
          "metadata": {},
          "output_type": "display_data"
        },
        {
          "data": {
            "text/plain": []
          },
          "execution_count": 52,
          "metadata": {},
          "output_type": "execute_result"
        }
      ],
      "source": [
        "import gradio as gr\n",
        "import requests\n",
        "#Thay bằng đường link sau khi chạy ngrok http 5000\n",
        "url = \"https://4fbd-2405-4802-9114-38b0-ad25-3064-9c9c-4261.ngrok-free.app\"\n",
        "\n",
        "def qa(message, history):\n",
        "    data = {\n",
        "    \"question\": message,\n",
        "    }\n",
        "    respone = requests.post(url, data=data)\n",
        "    answer = respone.json()['answer']\n",
        "    return answer\n",
        "\n",
        "chat = gr.ChatInterface(\n",
        "    qa,\n",
        "    chatbot=gr.Chatbot(height=300),\n",
        "    textbox=gr.Textbox(placeholder=\"Thắc mắc của bạn là gì ?\", container=False, scale=7),\n",
        "    title=\"SchoolAssistant\",\n",
        "    description=\"Hệ thống tư vấn tự động trong trường học\",\n",
        "    theme=\"soft\",\n",
        "    examples=[\"Tuyển sinh 2024\", \"Tư vấn tuyển sinh\", \"Khám phá TDTU\", \"Tư vấn sau đại học\", \"Thông tin ký túc xá\", \"Các ngành xét tuyển  2024\"],\n",
        "    cache_examples=True,\n",
        "    retry_btn=None,\n",
        "    undo_btn=None,\n",
        "    submit_btn=\"Gửi\",\n",
        "    clear_btn=\"Clear\",\n",
        ")\n",
        "chat.launch()"
      ]
    }
  ],
  "metadata": {
    "colab": {
      "provenance": []
    },
    "kernelspec": {
      "display_name": "Python 3",
      "name": "python3"
    },
    "language_info": {
      "name": "python"
    }
  },
  "nbformat": 4,
  "nbformat_minor": 0
}
